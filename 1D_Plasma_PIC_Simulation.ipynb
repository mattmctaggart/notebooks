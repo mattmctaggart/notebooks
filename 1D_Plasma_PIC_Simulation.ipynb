{
 "cells": [
  {
   "cell_type": "markdown",
   "metadata": {},
   "source": [
    "# Simple Particle-in-cell Plasma Simulation \n",
    "___\n",
    "### Movement of electrons  in an electric field\n",
    "\n",
    "Things to add:\n",
    "\n",
    "* 2D\n",
    "* Magnetic field\n",
    "* "
   ]
  },
  {
   "cell_type": "code",
   "execution_count": null,
   "metadata": {},
   "outputs": [],
   "source": [
    "import numpy as np\n",
    "import matplotlib.pyplot as plt"
   ]
  },
  {
   "cell_type": "markdown",
   "metadata": {},
   "source": [
    "Generate particle initial positions.\n",
    "\n",
    "Boundary conditions: 1 = periodic, 2 = reflective."
   ]
  },
  {
   "cell_type": "code",
   "execution_count": null,
   "metadata": {
    "scrolled": true
   },
   "outputs": [],
   "source": [
    "def initx(bc_particle):\n",
    "    global dx, grid_length, rho0, npart, q_per_me, a0\n",
    "    global charge, mass, wall_l, wall_r, wall_t, wall_b\n",
    "    print(\"Load Particles\")\n",
    "    \n",
    "    if (bc_particle >= 2):\n",
    "        wall_l = dx / 2.\n",
    "        wall_r = grid_length - 3 * dx / 2.\n",
    "    \n",
    "    else:\n",
    "        wall_l = 0.\n",
    "        wall_r = grid_length\n",
    "        \n",
    "    plasma_l = wall_l\n",
    "    plasma_r = wall_r\n",
    "\n",
    "    xinit = plasma_r - plasma_l #Related to grid length, a set parameter    \n",
    "    dpx = xinit / npart\n",
    "    \n",
    "    charge = -rho0*dpx\n",
    "    mass = charge / q_per_me\n",
    "\n",
    "    for i in range(npart):\n",
    "        x[i] = plasma_l + dpx * (i + 0.5) #Generates particle positions\n",
    "        \n",
    "        x[i] += a0 * np.cos(x[i])  #Adds sinusoidal perturbation\n",
    "        \n",
    "    return True"
   ]
  },
  {
   "cell_type": "markdown",
   "metadata": {},
   "source": [
    "Generate particle initial velocities"
   ]
  },
  {
   "cell_type": "code",
   "execution_count": null,
   "metadata": {},
   "outputs": [],
   "source": [
    "def initv(idist,vte):\n",
    "    global npart,v,grid_length,v0\n",
    "    print(\"Set up velocity distribution\")\n",
    "        \n",
    "    if (idist == 1):\n",
    "        for i in range(npart):\n",
    "            vm = vte * np.sqrt( (-2.*np.log((i + 0.5)/npart)) ) \n",
    "            rs = np.random.random_sample() \n",
    "            theta = 2*np.pi*rs\n",
    "            v[i] = vm*np.sin(theta) \n",
    "   \n",
    "      # scramble particle indicies to remove correlations between x and v\n",
    "        np.random.shuffle(v)\n",
    "        \n",
    "    else:\n",
    "        v[1:npart] = 0.\n",
    "        \n",
    "    v += v0*np.sin(2*np.pi*x/grid_length)\n",
    "    return True"
   ]
  },
  {
   "cell_type": "markdown",
   "metadata": {},
   "source": [
    "Compute density"
   ]
  },
  {
   "cell_type": "code",
   "execution_count": null,
   "metadata": {},
   "outputs": [],
   "source": [
    "def density(bc_field,qe):\n",
    "    global x,rhoe,rhoi,dx,npart,ngrid,wall_l,wall_r\n",
    "    \n",
    "    j1 = np.dtype(np.int32)\n",
    "    j2 = np.dtype(np.int32)\n",
    "    \n",
    "    re = qe/dx\n",
    "    rhoe = np.zeros(ngrid + 1)\n",
    "    \n",
    "    for i in range(npart):\n",
    "        xa = x[i]/dx\n",
    "        j1 = int(xa)\n",
    "        j2 = j1 + 1\n",
    "        f2 = xa - j1\n",
    "        f1 = 1.0 - f2\n",
    "        rhoe[j1] = rhoe[j1] + re*f1\n",
    "        rhoe[j2] = rhoe[j2] + re*f2\n",
    "        \n",
    "    if (bc_field == 1): #periodic boundary conditions\n",
    "        rhoe[0] += rhoe[ngrid]\n",
    "        rhoe[ngrid] = rhoe[0]\n",
    "        \n",
    "    elif (bc_field == 2): #reflective boundary conditions - not working\n",
    "        iwl = int(wall_l / dx)\n",
    "        rhoe[iwl + 1] += rhoe[iwl]\n",
    "        rhoe[iwl] = 0.0\n",
    "        iwr = int(wall_r / dx)\n",
    "        rhoe[iwr] += rhoe[iwr + 1]\n",
    "        rhoe[iwr + 1] = rhoe[iwr]\n",
    "        \n",
    "    else:\n",
    "         print(\"Invalid value for bc_field\", bc_field)   \n",
    "            \n",
    "    rhoi = rho0\n",
    "    \n",
    "    return True"
   ]
  },
  {
   "cell_type": "markdown",
   "metadata": {},
   "source": [
    "Compute electrostatic field"
   ]
  },
  {
   "cell_type": "code",
   "execution_count": null,
   "metadata": {},
   "outputs": [],
   "source": [
    "def field():\n",
    "    global rhoe,rhoi,Ex,dx,ngrid\n",
    "    \n",
    "    rhot = rhoe + rhoi\n",
    "    \n",
    "    Ex[ngrid] = 0.\n",
    "    edc = 0.0\n",
    "    \n",
    "    for j in range(ngrid-1, -1, -1):\n",
    "        Ex[j] = Ex[j + 1] - 0.5*(rhot[j] + rhot[j + 1])*dx\n",
    "        edc = edc + Ex[j]\n",
    "        \n",
    "    if (bc_field == 1): #boundary conditions = periodic\n",
    "        Ex[0:ngrid] -= edc/ngrid\n",
    "        Ex[ngrid] = Ex[0]\n",
    "        \n",
    "    return True"
   ]
  },
  {
   "cell_type": "markdown",
   "metadata": {},
   "source": [
    "Particle movement"
   ]
  },
  {
   "cell_type": "code",
   "execution_count": null,
   "metadata": {},
   "outputs": [],
   "source": [
    "def push():  \n",
    "    global x,v,Ex,dt,dx,npart,q_per_me\n",
    "\n",
    "    for i in range(npart):\n",
    "        xa = x[i]/dx\n",
    "        j1 = int(xa)\n",
    "        j2 = j1 + 1\n",
    "        b2 = xa - j1\n",
    "        b1 = 1.0 - b2\n",
    "        exi = b1*Ex[j1] + b2*Ex[j2]\n",
    "        v[i] = v[i] + q_per_me*dt*exi       \n",
    "\n",
    "    \n",
    "    x += dt*v     #Euler integration leap-frog\n",
    "    \n",
    "    return True"
   ]
  },
  {
   "cell_type": "markdown",
   "metadata": {},
   "source": [
    "Check particle boundary conditions"
   ]
  },
  {
   "cell_type": "code",
   "execution_count": null,
   "metadata": {},
   "outputs": [],
   "source": [
    "def particle_bc(bc_particle,x1):\n",
    "    global x\n",
    "    \n",
    "    for i in range(npart):\n",
    "        if (x[i] < 0.0):\n",
    "            x[i] += x1\n",
    "        elif (x[i] >= x1):\n",
    "            x[i] -= x1\n",
    "    \n",
    "    return True"
   ]
  },
  {
   "cell_type": "markdown",
   "metadata": {},
   "source": [
    "Diagnostic outputs for fields and particles"
   ]
  },
  {
   "cell_type": "code",
   "execution_count": null,
   "metadata": {},
   "outputs": [],
   "source": [
    "def diagnostics():\n",
    "    global rhoe,Ex,ngrid,itime,grid_length,rho0,a0\n",
    "    global ukin,upot,utot,udrift,utherm,emax,fv,fm\n",
    "    global iout,igraph,iphase,ivdist\n",
    "    \n",
    "    xgrid = dx * np.arange(ngrid + 1)\n",
    "    \n",
    "    if (itime == 0):\n",
    "        plt.figure('fields')\n",
    "        plt.clf()\n",
    "    if (igraph > 0):\n",
    "        if (np.fmod(itime,igraph) == 0):\n",
    "        \n",
    "        # Net Density\n",
    "            plt.subplot(2, 2, 1)\n",
    "            if (itime > 0):\n",
    "                plt.cla()\n",
    "            plt.plot(xgrid, -(rhoe + rho0),'r', label = 'density')\n",
    "            plt.xlabel('x')\n",
    "            plt.xlim(0,grid_length)\n",
    "            #plt.ylim(-2*a0,2*a0)\n",
    "            plt.legend(loc = 1)\n",
    "            plt.draw()\n",
    "            \n",
    "        #Electric field\n",
    "            plt.subplot(2, 2, 2)\n",
    "            if (itime > 0):\n",
    "                plt.cla()\n",
    "            plt.plot(xgrid, Ex, 'b', label = 'Ex')\n",
    "            plt.xlabel('x')\n",
    "            plt.xlim(0,grid_length)\n",
    "            plt.ylim(-a0,a0)\n",
    "            plt.legend(loc = 1)\n",
    "            plt.draw()\n",
    "            \n",
    "        #Phase space\n",
    "            if (iphase > 0):\n",
    "                if (np.fmod(itime,iphase) == 0):\n",
    "                    axScatter = plt.subplot(2, 2, 3)\n",
    "                    if (itime > 0):\n",
    "                        plt.cla()\n",
    "                    axScatter.scatter(x,v,marker = '.', s = 1)\n",
    "                    axScatter.set_xlim(0,grid_length)\n",
    "                    #axScatter.set_ylim(-vmax,vmax)\n",
    "                    axScatter.set_xlabel('x')\n",
    "                    axScatter.set_ylabel('v')\n",
    "                    plt.draw()\n",
    "                    \n",
    "        #Distribution function\n",
    "            if (ivdist > 0):\n",
    "                if (np.fmod(itime,ivdist) == 0):\n",
    "                    fv = np.zeros(nvbin + 1)\n",
    "                    dv = 2 * vmax / nvbin\n",
    "                    \n",
    "                    for i in range(npart):\n",
    "                        vax = (v[i] + vmax) / dv\n",
    "                        iv = int(vax) + 1\n",
    "                        if (iv <= nvbin and iv > 0):\n",
    "                            fv[iv] += 1\n",
    "                            \n",
    "                    plt.subplot(2, 2, 4)\n",
    "                    if (itime > 0):\n",
    "                        plt.cla()\n",
    "                    vgrid = dv * np.arange(nvbin + 1) - vmax\n",
    "                    plt.plot(vgrid,fv,'g',label='f(v)')\n",
    "                    plt.xlabel('v')\n",
    "                    plt.xlim(-vmax,vmax)\n",
    "                    #plt.ylim(-5*a0,1000*a0)\n",
    "                    plt.legend(loc = 1)\n",
    "                    fn_vdist = 'vdist_%0*d'%(5, itime)\n",
    "                    plt.draw()\n",
    "                    \n",
    "                    #np.savetxt(fn_vdist,np.column_stack((vgrid,fv)),fmt=('%1.4e','%1.4e'))\n",
    "                    \n",
    "            plt.pause(0.0001)\n",
    "            plt.draw()\n",
    "            filename = 'fields_%0*d'%(5, itime)\n",
    "            if (iout > 0):\n",
    "                if (np.fmod(itime,iout) == 0):\n",
    "                    plt.savefig(filename+'.png')\n",
    "                    \n",
    "        #Kinetic energy\n",
    "        v2 = v**2\n",
    "        vdrift = sum(v) / npart\n",
    "        ukin[itime] = 0.5*mass*sum(v2)\n",
    "        udrift[itime] = 0.5*mass*vdrift*vdrift*npart\n",
    "        utherm[itime] = ukin[itime] - udrift[itime]\n",
    "        \n",
    "        #Potential energy\n",
    "        e2 = Ex**2\n",
    "        upot[itime] = 0.5*dx*sum(e2)\n",
    "        emax = max(Ex)\n",
    "        \n",
    "        #Total energy\n",
    "        utot[itime] = upot[itime] + ukin[itime]\n",
    "        \n",
    "        return True"
   ]
  },
  {
   "cell_type": "markdown",
   "metadata": {},
   "source": [
    "Plot time histories"
   ]
  },
  {
   "cell_type": "code",
   "execution_count": null,
   "metadata": {},
   "outputs": [],
   "source": [
    "def histories():\n",
    "    global ukin, upot, utot, udrift, utherm\n",
    "    \n",
    "    xgrid = dt * np.arange(nsteps + 1)\n",
    "    \n",
    "    plt.figure('Energies')\n",
    "    plt.plot(xgrid, upot, 'b', label = 'Upot')\n",
    "    plt.plot(xgrid, ukin, 'r', label = 'Ukin')\n",
    "    plt.plot(xgrid, utot, 'black', label = 'Utot')\n",
    "    plt.xlabel('t')\n",
    "    plt.ylabel('Energy')\n",
    "    #plt.ylim(0.0,1.0)\n",
    "    \n",
    "    plt.legend(loc = 1)\n",
    "    plt.savefig('energies.png')\n",
    "    \n",
    "    np.savetxt('energies.out', np.column_stack((xgrid,upot,ukin,utot)),fmt = ('%1.4e','%1.4e','%1.4e','%1.4e'))"
   ]
  },
  {
   "cell_type": "markdown",
   "metadata": {},
   "source": [
    "Main program"
   ]
  },
  {
   "cell_type": "code",
   "execution_count": null,
   "metadata": {},
   "outputs": [],
   "source": [
    "npart = 10000 #number of particles\n",
    "ngrid = 100 #number of grid points\n",
    "nsteps = 3000 #time steps\n",
    "\n",
    "#particle arrays\n",
    "x = np.zeros(npart)\n",
    "v = np.zeros(npart)\n",
    "\n",
    "#grid arrays\n",
    "rhoe = np.zeros(ngrid + 1) #electron density\n",
    "rhoi = np.zeros(ngrid + 1) #ion density\n",
    "Ex = np.zeros(ngrid + 1) #electric field\n",
    "phi = np.zeros(ngrid + 1) #potential\n",
    "\n",
    "#time histories\n",
    "ukin = np.zeros(nsteps + 1)\n",
    "upot = np.zeros(nsteps + 1)\n",
    "utherm = np.zeros(nsteps + 1)\n",
    "udrift = np.zeros(nsteps + 1)\n",
    "utot = np.zeros(nsteps + 1)"
   ]
  },
  {
   "cell_type": "markdown",
   "metadata": {},
   "source": [
    "Define main variables and defaults"
   ]
  },
  {
   "cell_type": "code",
   "execution_count": null,
   "metadata": {},
   "outputs": [],
   "source": [
    "grid_length = 8.0 * np.pi #size of spatial grid\n",
    "plasma_i = 0.\n",
    "plasma_f = grid_length\n",
    "dx = grid_length/ngrid\n",
    "dt = 0.02 #normalized timestep\n",
    "q_per_me = -1.0 #electron charge to mass ratio\n",
    "rho0 = 1.0 #background ion density\n",
    "vte = 0.0677 #thermal velocity E dominant < ~0.068 < T dominant\n",
    "nvbin = 200 #bins for nv plot\n",
    "a0 = 0.1 #perturbation amplitude\n",
    "vmax = 0.1 #max vel for nv plot\n",
    "v0 = 0.001 #velocity perturbation\n",
    "wall_l = 0.\n",
    "wall_r = 2.\n",
    "bc_field = 1\n",
    "bc_particle = 1\n",
    "profile = 1\n",
    "distribution = 1 #vel distribution, 1 = thermal else = cold; stream not implem\n",
    "ihist = 1 #freq of time-history output\n",
    "igraph = int(np.pi/dt/3) #freq of graphical snapshots\n",
    "iphase = igraph\n",
    "ivdist = igraph\n",
    "iout = igraph\n",
    "itime = 0 #initialize time counter"
   ]
  },
  {
   "cell_type": "markdown",
   "metadata": {},
   "source": [
    "Setup initial particle distribution and field states"
   ]
  },
  {
   "cell_type": "code",
   "execution_count": null,
   "metadata": {
    "scrolled": true
   },
   "outputs": [],
   "source": [
    "initx(bc_particle)\n",
    "initv(distribution,vte)\n",
    "x += 0.5*dt*v\n",
    "particle_bc(bc_particle,grid_length)\n",
    "density(bc_field,charge)\n",
    "field()\n",
    "diagnostics()\n",
    "print('Resolution dx/lambda_D=',dx/vte)"
   ]
  },
  {
   "cell_type": "markdown",
   "metadata": {},
   "source": [
    "Iteration loop"
   ]
  },
  {
   "cell_type": "code",
   "execution_count": null,
   "metadata": {
    "scrolled": false
   },
   "outputs": [],
   "source": [
    "for itime in range(1,nsteps + 1):\n",
    "    #print('timestep ',itime)\n",
    "    push() #push particles\n",
    "    particle_bc(bc_particle,grid_length) #enforce boundary conditions\n",
    "    density(bc_field,charge) #compute density\n",
    "    field() #compute electric field\n",
    "    diagnostics() #output snapshots and time histories\n",
    "    \n",
    "histories()\n",
    "\n",
    "print('Done')"
   ]
  },
  {
   "cell_type": "markdown",
   "metadata": {},
   "source": [
    "### References\n",
    "\n",
    "1. P. Gibbon, KU-Leuven & FZ-Juelich. ESPIC: a simple 1D1V electrostatic PIC code, November 2013: https://indico.cern.ch/event/285444/contributions/1636921/attachments/528868/729185/espic.py\n",
    "  "
   ]
  }
 ],
 "metadata": {
  "kernelspec": {
   "display_name": "Python 3",
   "language": "python",
   "name": "python3"
  },
  "language_info": {
   "codemirror_mode": {
    "name": "ipython",
    "version": 3
   },
   "file_extension": ".py",
   "mimetype": "text/x-python",
   "name": "python",
   "nbconvert_exporter": "python",
   "pygments_lexer": "ipython3",
   "version": "3.7.1"
  }
 },
 "nbformat": 4,
 "nbformat_minor": 2
}
